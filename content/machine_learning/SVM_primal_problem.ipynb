{
 "cells": [
  {
   "cell_type": "markdown",
   "metadata": {},
   "source": [
    "# Support Vector Machines\n"
   ]
  },
  {
   "cell_type": "markdown",
   "metadata": {},
   "source": [
    "## 1. SVM là gì.\n",
    "\n"
   ]
  },
  {
   "cell_type": "markdown",
   "metadata": {},
   "source": [
    "## Bài tập\n",
    "1. \n",
    "w là vector pháp tuyến của hàm quyết định y(x)\n",
    "2. "
   ]
  },
  {
   "cell_type": "code",
   "execution_count": 1,
   "metadata": {},
   "outputs": [],
   "source": [
    "import numpy as np \n",
    "import matplotlib.pyplot as plt\n",
    "\n",
    "np.random.seed(10)\n",
    "\n",
    "means = [[2, 4], [2, 2]]\n",
    "cov = [[.2, .1], [.1, .2]]\n",
    "\n",
    "# Number of sample data\n",
    "N = 10\n",
    "\n",
    "# Dimension of sample data\n",
    "x_dim = (np.array(means).shape)[1]\n",
    "M = x_dim + 1\n",
    "\n",
    "X0 = np.random.multivariate_normal(means[0], cov, N)\n",
    "X1 = np.random.multivariate_normal(means[1], cov, N)\n",
    "\n",
    "X = np.concatenate((X0.T, X1.T), axis = 1)\n",
    "y = np.concatenate((np.ones((1, N)), -1*np.ones((1, N))), axis = 1)"
   ]
  },
  {
   "cell_type": "code",
   "execution_count": 2,
   "metadata": {},
   "outputs": [
    {
     "data": {
      "image/png": "[encoded data removed]",
      "text/plain": [
       "<Figure size 432x288 with 1 Axes>"
      ]
     },
     "metadata": {},
     "output_type": "display_data"
    }
   ],
   "source": [
    "# plot points\n",
    "plt.plot(X0[:, 0], X0[:, 1], 'bs', markersize = 8, alpha = .9)\n",
    "plt.plot(X1[:, 0], X1[:, 1], 'ro', markersize = 8, alpha = .9)\n",
    "plt.axis('equal')\n",
    "\n",
    "# axis limits\n",
    "plt.ylim(1, 5)\n",
    "plt.xlim(1, 3)\n",
    "\n",
    "# hide tikcs \n",
    "cur_axes = plt.gca()\n",
    "cur_axes.axes.get_xaxis().set_ticks([])\n",
    "cur_axes.axes.get_yaxis().set_ticks([])\n",
    "\n",
    "plt.xlabel('$x_1$', fontsize = 20)\n",
    "plt.ylabel('$x_2$', fontsize = 20)\n",
    "plt.show()"
   ]
  },
  {
   "cell_type": "code",
   "execution_count": 3,
   "metadata": {},
   "outputs": [
    {
     "name": "stdout",
     "output_type": "stream",
     "text": [
      "lambda = \n",
      " [[ 2.05340365e-09 -6.01611568e-10  1.75703771e-09 -1.83639788e-10\n",
      "  -3.86911768e-10 -9.75849876e-11 -2.47834961e-10 -2.93039059e-10\n",
      "  -6.22539469e-10  3.44319790e+00  5.37644576e-01  2.90555330e+00\n",
      "  -1.23997933e-09  1.27033422e-08  1.24161864e-08  2.24426924e-09\n",
      "   7.52468784e-10 -6.75085576e-10  2.38685532e-10 -3.00058484e-10]]\n"
     ]
    }
   ],
   "source": [
    "\n",
    "from cvxopt import matrix, solvers\n",
    "# build K\n",
    "V = np.concatenate((X0.T, -X1.T), axis = 1)\n",
    "K = matrix(V.T.dot(V))\n",
    "\n",
    "p = matrix(-np.ones((2*N, 1)))\n",
    "# build A, b, G, h \n",
    "G = matrix(-np.eye(2*N))\n",
    "h = matrix(np.zeros((2*N, 1)))\n",
    "A = matrix(y) \n",
    "b = matrix(np.zeros((1, 1))) \n",
    "solvers.options['show_progress'] = False\n",
    "sol = solvers.qp(K, p, G, h, A, b)\n",
    "\n",
    "l = np.array(sol['x'])\n",
    "print('lambda = \\n', l.T)"
   ]
  },
  {
   "cell_type": "code",
   "execution_count": 4,
   "metadata": {},
   "outputs": [
    {
     "data": {
      "text/plain": [
       "<20x20 matrix, tc='d'>"
      ]
     },
     "execution_count": 4,
     "metadata": {},
     "output_type": "execute_result"
    }
   ],
   "source": [
    "G"
   ]
  },
  {
   "cell_type": "code",
   "execution_count": 5,
   "metadata": {},
   "outputs": [
    {
     "name": "stdout",
     "output_type": "stream",
     "text": [
      "w =  [[0.07918923 2.62299927]]\n",
      "b =  -7.482521425998915\n"
     ]
    }
   ],
   "source": [
    "S = np.where(l > 1e-6)[0]\n",
    "\n",
    "VS = V[:, S]\n",
    "XS = X[:, S]\n",
    "yS = y[:, S]\n",
    "lS = l[S]\n",
    "# calculate w and b\n",
    "w = VS.dot(lS)\n",
    "b = np.mean(yS.T - w.T.dot(XS))\n",
    "\n",
    "print('w = ', w.T)\n",
    "print('b = ', b)"
   ]
  },
  {
   "cell_type": "code",
   "execution_count": 6,
   "metadata": {},
   "outputs": [
    {
     "data": {
      "image/png": "[encoded data removed]",
      "text/plain": [
       "<Figure size 432x288 with 1 Axes>"
      ]
     },
     "metadata": {},
     "output_type": "display_data"
    }
   ],
   "source": [
    "# with PdfPages('svm4.pdf') as pdf:\n",
    "# draw\n",
    "# plot points\n",
    "fig, ax = plt.subplots()\n",
    "\n",
    "x1 = np.arange(-10, 10, 0.1)\n",
    "y1 = -w[0, 0]/w[1, 0]*x1 - b/w[1, 0]\n",
    "y2 = -w[0, 0]/w[1, 0]*x1 - (b-1)/w[1, 0]\n",
    "y3 = -w[0, 0]/w[1, 0]*x1 - (b+1)/w[1, 0]\n",
    "plt.plot(x1, y1, 'k', linewidth = 3)\n",
    "plt.plot(x1, y2, 'k')\n",
    "plt.plot(x1, y3, 'k')\n",
    "\n",
    "\n",
    "y4 = 10*y1\n",
    "plt.plot(x1, y1, 'k')\n",
    "plt.fill_between(x1, y1, color='red', alpha='.3')\n",
    "plt.fill_between(x1, y1, y4, color = 'blue', alpha = '.3')\n",
    "\n",
    "\n",
    "plt.plot(X0[:, 0], X0[:, 1], 'bs', markersize = 8, alpha = .8)\n",
    "plt.plot(X1[:, 0], X1[:, 1], 'ro', markersize = 8, alpha = .8)\n",
    "\n",
    "plt.axis('equal')\n",
    "plt.ylim(1, 5)\n",
    "plt.xlim(1, 3)\n",
    "\n",
    "# hide tikcs \n",
    "cur_axes = plt.gca()\n",
    "cur_axes.axes.get_xaxis().set_ticks([])\n",
    "cur_axes.axes.get_yaxis().set_ticks([])\n",
    "\n",
    "# add circles around support vectors \n",
    "for m in S:\n",
    "    circle = plt.Circle((X[0, m], X[1, m] ), 0.1, color='k', fill = False)\n",
    "    ax.add_artist(circle)\n",
    "\n",
    "\n",
    "plt.xlabel('$x_1$', fontsize = 20)\n",
    "plt.ylabel('$x_2$', fontsize = 20)\n",
    "#     plt.savefig('svm4.png', bbox_inches='tight', dpi = 300)\n",
    "#     pdf.savefig()\n",
    "plt.show()"
   ]
  },
  {
   "cell_type": "code",
   "execution_count": 7,
   "metadata": {},
   "outputs": [],
   "source": [
    "Y_X0 = -w[0, 0]/w[1, 0]*X0[:,0] - b/w[1, 0]"
   ]
  },
  {
   "cell_type": "code",
   "execution_count": 8,
   "metadata": {},
   "outputs": [],
   "source": [
    "mol = np.linalg.norm(w)"
   ]
  },
  {
   "cell_type": "code",
   "execution_count": 9,
   "metadata": {},
   "outputs": [],
   "source": [
    "X0_dis = Y_X0 / mol"
   ]
  },
  {
   "cell_type": "code",
   "execution_count": 10,
   "metadata": {},
   "outputs": [
    {
     "name": "stdout",
     "output_type": "stream",
     "text": [
      "[1.07182472 1.05714406 1.06496756 1.06551378 1.06362145 1.06907576\n",
      " 1.06239667 1.06621532 1.05933475 1.06788836]\n"
     ]
    }
   ],
   "source": [
    "print(X0_dis)"
   ]
  },
  {
   "cell_type": "code",
   "execution_count": 11,
   "metadata": {},
   "outputs": [
    {
     "data": {
      "text/plain": [
       "2"
      ]
     },
     "execution_count": 11,
     "metadata": {},
     "output_type": "execute_result"
    }
   ],
   "source": [
    "size = np.array(means).shape\n",
    "size[1]"
   ]
  },
  {
   "cell_type": "code",
   "execution_count": 12,
   "metadata": {},
   "outputs": [
    {
     "data": {
      "text/plain": [
       "2"
      ]
     },
     "execution_count": 12,
     "metadata": {},
     "output_type": "execute_result"
    }
   ],
   "source": [
    "x_dim"
   ]
  },
  {
   "cell_type": "code",
   "execution_count": null,
   "metadata": {},
   "outputs": [],
   "source": []
  }
 ],
 "metadata": {
  "kernelspec": {
   "display_name": "Python 3",
   "language": "python",
   "name": "python3"
  },
  "language_info": {
   "codemirror_mode": {
    "name": "ipython",
    "version": 3
   },
   "file_extension": ".py",
   "mimetype": "text/x-python",
   "name": "python",
   "nbconvert_exporter": "python",
   "pygments_lexer": "ipython3",
   "version": "3.7.3"
  }
 },
 "nbformat": 4,
 "nbformat_minor": 2
}
