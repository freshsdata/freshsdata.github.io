{
 "cells": [
  {
   "cell_type": "markdown",
   "metadata": {},
   "source": [
    "# Welcome and Thank for visit Fresh's Data. ;)\n",
    "\n",
    "## Fresh's Data là gì?\n",
    "Cái tên nói lên tất cả :D. Tác giả chính là mình đây, mình tên Tươi và mọi người vẫn gọi là Fresh. Fresh's Data nói chung là nơi để mình lưu lại những gì mình đã tìm hiểu và thu nhặc được theo một cách rất Fresh's style.\n",
    "\n",
    "## Tìm thấy gì ở Fresh's Data?\n",
    "Nội dung trong Fresh's Data là sự trình bày một vấn đề nào đó theo cách suy nghĩ của mình, nội dung có thể bao gồm từ lĩnh vực kỹ thuật mà mình đam mê như Machine Learning, kỹ năng mềm hay đến các vấn đề rất cá nhân như suy nghĩ về một vấn đề trong xã hội... Giới hạn nội dung nằm ở giới hạn khả năng cũng như thời gian để mình trình bày suy nghĩa của mình mà thôi.\n",
    "\n",
    "## Mục đích\n",
    "Uhm, nói đến đây thì mọi người cũng biết mục đích của blog này rồi hỉ. Blog này được tạo ra chỉ với 2 mục đích duy nhất:\n",
    "1. Trình bày lại các kiến thức mình đã thu nhặt được trong quá trình học tập và làm việc (Tuyệt đối không có thông tin về việc mình làm ở công ty nhé, ai đi làm cũng biết đó là bảo mật rồi). Mục đích chính là giúp mình ít nhất đạt được level 3 trên 5 level được trình bày trong bài [5 cấp độ của sự nhận thức](#addmore).\n",
    "2. Đây là nơi để refer đến khi cần mà không cần phải lục tung google search lên. Cũng như chia sẻ và thảo luận với ai quan tâm nhé.\n",
    "\n",
    "## Đừng hỏi vì sao.\n",
    "A há, đây không phải là bài hát [Đừng hỏi vì sao](https://zingmp3.vn/bai-hat/Dung-Hoi-Vi-Sao-Dam-Vinh-Hung/ZWZ97U0B.html) đâu nhé. Mình list ở đây là một vài điểm mà \"đừng hỏi vì sao\" nó lại như vậy mà không phải là A, B hay C nào khác.\n",
    "1. Việc trình bày bằng cả tiếng Việt và tiếng Anh. Ai đã lết hết 12 năm ở ghế nhà trường thì cũng biết tiếng Việt mình vay mượn kha khá (Không muốn nói nhiều :D) từ các tiếng của nước khác như: Hán, Pháp, Anh... Đơn giản là có nhiều từ trong tiếng Anh nghe nó dễ hiểu và sang hơn (:D) nên mình sẻ sử dụng tiếng Anh để trình bày thế thôi.\n",
    "\n",
    "## Hãy trao cho tôi.\n",
    "Yeah, chắc chắn không phải [Hãy trao cho anh](https://www.youtube.com/watch?v=knW7-x7Y7RE) này rùi. :D Hãy trao cho tôi những điều sau đây:\n",
    "1. Câu hỏi thảo luân về vấn đề trình bày trong blog.\n",
    "2. Nhận xét, góp ý.\n"
   ]
  }
 ],
 "metadata": {
  "kernelspec": {
   "display_name": "Python 3",
   "language": "python",
   "name": "python3"
  },
  "language_info": {
   "codemirror_mode": {
    "name": "ipython",
    "version": 3
   },
   "file_extension": ".py",
   "mimetype": "text/x-python",
   "name": "python",
   "nbconvert_exporter": "python",
   "pygments_lexer": "ipython3",
   "version": "3.7.3"
  }
 },
 "nbformat": 4,
 "nbformat_minor": 2
}
